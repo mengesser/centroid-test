{
 "cells": [
  {
   "cell_type": "markdown",
   "metadata": {
    "toc": true
   },
   "source": [
    "<h1>Table of Contents<span class=\"tocSkip\"></span></h1>\n",
    "<div class=\"toc\"><ul class=\"toc-item\"></ul></div>"
   ]
  },
  {
   "cell_type": "code",
   "execution_count": 1,
   "metadata": {
    "ExecuteTime": {
     "end_time": "2020-02-12T19:20:09.310351Z",
     "start_time": "2020-02-12T19:20:08.186641Z"
    },
    "code_folding": []
   },
   "outputs": [],
   "source": [
    "#imports\n",
    "from jwst_ta_cent_moments import checkbox, fine_centroid\n",
    "import numpy as np\n",
    "import random\n",
    "import matplotlib.pyplot as plt\n",
    "from scipy.interpolate import CubicSpline\n",
    "import pandas as pd\n",
    "from astropy.io import fits\n",
    "import os"
   ]
  },
  {
   "cell_type": "code",
   "execution_count": 2,
   "metadata": {
    "ExecuteTime": {
     "end_time": "2020-02-12T19:20:09.828681Z",
     "start_time": "2020-02-12T19:20:09.825543Z"
    },
    "code_folding": [
     0
    ]
   },
   "outputs": [],
   "source": [
    "def open_im(file):\n",
    "    #import MIRI webbpsf file\n",
    "    \n",
    "    hdu = fits.open(file)\n",
    "    head = hdu[0].header\n",
    "    data = hdu[0].data\n",
    "    \n",
    "    return head, data"
   ]
  },
  {
   "cell_type": "code",
   "execution_count": 3,
   "metadata": {
    "ExecuteTime": {
     "end_time": "2020-02-12T19:20:11.682300Z",
     "start_time": "2020-02-12T19:20:11.667536Z"
    },
    "code_folding": [
     0
    ]
   },
   "outputs": [],
   "source": [
    "def centroid_b(im, input_type='image', ext=0, cbox=5, cwin=5, incoord=(0., 0.), roi=None, bgcorr=-1, flat=None, flatext=0, out=None, thresh=0.05, silent=False):\n",
    "    \n",
    "    '''\n",
    "    Implementation of the JWST GENTALOCATE algorithm. Parameters key:\n",
    "    \n",
    "    - infile:       FITS filename\n",
    "    - input_type:   description of input data: 'image' or 'ramp'. If 'ramp'\n",
    "                    then make_ta_image functin is run. If 'image' (default)\n",
    "                    centroiding is performed directly on the data in the\n",
    "                    input file\n",
    "    - ext:          extension number of the FITS file containing the science data (default = 0)\n",
    "    - cbox:         the FULL size of the checkbox, in pixels, for coarse centroiding (default = 5)\n",
    "    - cwin:         the FULL size of the centroid window, in pixels, for fine centroiding (default = 5)\n",
    "    - incoord:      (x,y) input coordinates of the source position\n",
    "    - roi:          size of a region of interest to be used for the centroiding (optional). If not set, full image will be used for coarse                       centroiding. \n",
    "                        * setting an ROI also requires input coordinates\n",
    "                        * the ROI size must be bigger than the cbox parameter\n",
    "    - bgcorr:       background correction parameter. set to:\n",
    "                        * negative value for NO background subtraction (default)\n",
    "                        * 0 < bgcorr < 1 for fractional background subtraction\n",
    "                        * bgcorr > 1 for constant background subtraction number (this number will be subtracted from the entire image)\n",
    "    - out:          enter a filename for output of the fit results to a file (default = None)\n",
    "    - thresh:       the fit threshold, in pixels. default is 0.1 px. consider setting this to a higher number for testing, long-wavelength    \n",
    "                       data or low SNR data to prevent.\n",
    "    - silent:       set to True if you want to suppress verbose output\n",
    "    '''\n",
    "\n",
    "    # Read in data. Create the TA image if requested\n",
    "#     if input_type.lower() == 'image':\n",
    "#         hdu = fits.open(infile)\n",
    "#         im = hdu[ext].data\n",
    "#         h = hdu[ext].header\n",
    "#     elif input_type.lower() == 'ramp':\n",
    "#         im = make_ta_image(infile, ext=ext, useframes=3, save=False)\n",
    "#         # Save TA image for code testing\n",
    "#         h0 = fits.PrimaryHDU(im)\n",
    "#         hl = fits.HDUList([h0])\n",
    "#         indir, inf = os.path.split(infile)\n",
    "#         tafile = os.path.join(indir, 'TA_img_for_'+inf)\n",
    "#         hl.writeto(tafile, overwrite=True)\n",
    "\n",
    "    # Do background correction first\n",
    "    if bgcorr > 0.:\n",
    "        \n",
    "        # if a ROI size was provided, the value to be subtracted as background will be calculated using the pixels in the ROI only. Otherwise, use the full array.\n",
    "        if roi is not None:\n",
    "            im = bgrsub(im, bgcorr, roi, incoord, silent=silent)\n",
    "        else:\n",
    "            im = bgrsub(im, bgcorr, -1, incoord, silent=silent)\n",
    "\n",
    "    # Apply flat field\n",
    "    if flat is not None:\n",
    "        # Read in flat\n",
    "        with fits.open(flat) as ff:\n",
    "            flatfield = ff[flatext].data\n",
    "            \n",
    "        # Flat must be the same size as the data\n",
    "        ffshape = flatfield.shape\n",
    "        dshape = im.shape\n",
    "        if dshape != ffshape:\n",
    "            raise RunTimeError((\"WARNING: flat field shape ({}) does \"\n",
    "                                \"not match data shape ({})!\"\n",
    "                                .format(ffshape,dshape)))\n",
    "        # Apply flat\n",
    "        im = apply_flat_field(im, flatfield)\n",
    "        \n",
    "    ndim = np.ndim(im)\n",
    "    #pdb.set_trace()\n",
    "    \n",
    "    n = [np.size(im, axis=i) for i in range(ndim)]\n",
    "    \n",
    "    # NOTE: in python the x-coord is axis 1, y-coord is axis 0\n",
    "    xin = incoord[0]\n",
    "    yin = incoord[1]\n",
    "    if not silent:\n",
    "        print('Input coordinates = ({0}, {1})'.format(xin, yin))\n",
    "    \n",
    "    # Extract the ROI\n",
    "    if (roi is not None):\n",
    "        \n",
    "        #first check that the ROI is larger than the cbox size\n",
    "        assert roi > cbox, \"ROI size must be larger than the cbox parameter\"\n",
    "        \n",
    "        # now check that the ROI is a sensible number.\n",
    "        # if it's bigger than the size of the array, use the\n",
    "        # full array instead\n",
    "        if (roi >= n[0])|(roi >= n[1]):\n",
    "            print('ROI size is bigger than the image; using full image instead')\n",
    "            roi_im = im\n",
    "            xoffset = 0\n",
    "            yoffset = 0\n",
    "            #xc, yc = checkbox(im, cbox, bgcorr)\n",
    "        else:\n",
    "            roi_im = im[np.round(yin-(roi/2.)).astype(int):np.round(yin+(roi/2.)).astype(int),\n",
    "                        np.round(xin-(roi/2.)).astype(int):np.round(xin+(roi/2.)).astype(int)]\n",
    "            \n",
    "            \n",
    "            #print(\"ROI size is {0}\".format(np.shape(roi_im)))\n",
    "            xoffset = np.round(xin-(roi/2.)).astype(int)\n",
    "            yoffset = np.round(yin-(roi/2.)).astype(int)\n",
    "    else:\n",
    "        #xc, yc = checkbox(im, cbox, bgcorr)\n",
    "        roi_im = im\n",
    "        xoffset = 0\n",
    "        yoffset = 0\n",
    "    \n",
    "    # Perform coarse centroiding. Pay attention to coordinate\n",
    "    # offsets\n",
    "    xc, yc = checkbox(roi_im, cbox)\n",
    "    xc += xoffset\n",
    "    yc += yoffset\n",
    "    if not silent:\n",
    "        print('Coarse centroid found at ({0}, {1})'.format(xc, yc))\n",
    "    \n",
    "    # Iterate fine centroiding\n",
    "    # Take the threshold from the input parameter thresh\n",
    "    iter_thresh = thresh\n",
    "    nconv = 0\n",
    "    while nconv == 0:\n",
    "        xf, yf= fine_centroid(im, cwin, xc, yc)\n",
    "        err = np.sqrt((xf-xin)**2 + (yf-yin)**2)\n",
    "        if not silent:\n",
    "            print((\"Fine centroid found at (x, y) = ({0:.4f}, {1:.4f}). \"\n",
    "               \"Rms error = {2:.4f}\".format(xf, yf, err)))\n",
    "        if (abs(xf-xc) <= iter_thresh) & (abs(yf-yc) <= iter_thresh):\n",
    "            nconv = 1\n",
    "        xc = xf\n",
    "        yc = yf\n",
    "    \n",
    "\n",
    "    return xf, yf"
   ]
  },
  {
   "cell_type": "code",
   "execution_count": 49,
   "metadata": {
    "ExecuteTime": {
     "end_time": "2020-02-12T19:55:19.101273Z",
     "start_time": "2020-02-12T19:55:19.086100Z"
    }
   },
   "outputs": [],
   "source": [
    "head, data = open_im('MIRI_psf_model_F1000W_0.fits')"
   ]
  },
  {
   "cell_type": "code",
   "execution_count": 50,
   "metadata": {
    "ExecuteTime": {
     "end_time": "2020-02-12T19:55:19.544686Z",
     "start_time": "2020-02-12T19:55:19.540915Z"
    }
   },
   "outputs": [
    {
     "data": {
      "text/plain": [
       "'F1000W'"
      ]
     },
     "execution_count": 50,
     "metadata": {},
     "output_type": "execute_result"
    }
   ],
   "source": [
    "head['FILTER']"
   ]
  },
  {
   "cell_type": "code",
   "execution_count": 51,
   "metadata": {
    "ExecuteTime": {
     "end_time": "2020-02-12T19:55:20.773565Z",
     "start_time": "2020-02-12T19:55:20.582994Z"
    }
   },
   "outputs": [
    {
     "data": {
      "text/plain": [
       "<matplotlib.colorbar.Colorbar at 0xb1bbb9ef0>"
      ]
     },
     "execution_count": 51,
     "metadata": {},
     "output_type": "execute_result"
    },
    {
     "data": {
      "image/png": "[encoded data removed]",
      "text/plain": [
       "<Figure size 432x288 with 2 Axes>"
      ]
     },
     "metadata": {
      "needs_background": "light"
     },
     "output_type": "display_data"
    }
   ],
   "source": [
    "plt.imshow(data)\n",
    "plt.colorbar()"
   ]
  },
  {
   "cell_type": "code",
   "execution_count": 52,
   "metadata": {
    "ExecuteTime": {
     "end_time": "2020-02-12T19:55:22.066257Z",
     "start_time": "2020-02-12T19:55:22.005468Z"
    }
   },
   "outputs": [
    {
     "name": "stdout",
     "output_type": "stream",
     "text": [
      "Input coordinates = (0.0, 0.0)\n",
      "Coarse centroid found at (54, 54)\n",
      "Fine centroid found at (x, y) = (54.0040, 53.9883). Rms error = 76.3621\n"
     ]
    }
   ],
   "source": [
    "cent = centroid_b(data)"
   ]
  },
  {
   "cell_type": "code",
   "execution_count": 72,
   "metadata": {
    "ExecuteTime": {
     "end_time": "2020-02-12T20:04:18.641266Z",
     "start_time": "2020-02-12T20:04:18.636975Z"
    }
   },
   "outputs": [],
   "source": [
    "def compute_centroid_diff(data, head):\n",
    "    \n",
    "    offset = head['R_OFFSET'] #y offset of psf in pixels\n",
    "    \n",
    "    origin = (54,54) #center pixel that psfs offset from\n",
    "    \n",
    "    true_cent = np.add(origin, [0, offset])\n",
    "    \n",
    "    cent = centroid_b(data,silent=True)\n",
    "    \n",
    "    diff = np.subtract(cent,true_cent)*0.11 #diff in arcsec\n",
    "    \n",
    "    rms = np.sqrt(np.mean(diff**2))\n",
    "    \n",
    "    return rms*1000"
   ]
  },
  {
   "cell_type": "code",
   "execution_count": 73,
   "metadata": {
    "ExecuteTime": {
     "end_time": "2020-02-12T20:04:21.111616Z",
     "start_time": "2020-02-12T20:04:19.732872Z"
    }
   },
   "outputs": [],
   "source": [
    "f560 = []\n",
    "f1000 = []\n",
    "f1500 = []\n",
    "f2550 = []\n",
    "\n",
    "for f in os.listdir():\n",
    "    if f.endswith('.fits'):\n",
    "        head, data = open_im(f)\n",
    "        \n",
    "        filt = head['FILTER']\n",
    "        \n",
    "        if filt == 'F560W':\n",
    "            mas_acc = compute_centroid_diff(data, head)\n",
    "            f560.append(mas_acc)\n",
    "            \n",
    "        elif filt == 'F1000W':\n",
    "            mas_acc = compute_centroid_diff(data, head)\n",
    "            f1000.append(mas_acc)\n",
    "            \n",
    "        elif filt == 'F1500W':\n",
    "            mas_acc = compute_centroid_diff(data, head)\n",
    "            f1500.append(mas_acc)\n",
    "            \n",
    "        elif filt == 'F2550W':\n",
    "            mas_acc = compute_centroid_diff(data, head)\n",
    "            f2550.append(mas_acc)"
   ]
  },
  {
   "cell_type": "code",
   "execution_count": 89,
   "metadata": {
    "ExecuteTime": {
     "end_time": "2020-02-12T20:15:23.067077Z",
     "start_time": "2020-02-12T20:15:23.063393Z"
    }
   },
   "outputs": [
    {
     "data": {
      "text/plain": [
       "14.081403171713944"
      ]
     },
     "execution_count": 89,
     "metadata": {},
     "output_type": "execute_result"
    }
   ],
   "source": [
    "np.mean(f560)"
   ]
  },
  {
   "cell_type": "code",
   "execution_count": 90,
   "metadata": {
    "ExecuteTime": {
     "end_time": "2020-02-12T20:15:23.272722Z",
     "start_time": "2020-02-12T20:15:23.268484Z"
    }
   },
   "outputs": [
    {
     "data": {
      "text/plain": [
       "14.66258781182637"
      ]
     },
     "execution_count": 90,
     "metadata": {},
     "output_type": "execute_result"
    }
   ],
   "source": [
    "np.mean(f1000)"
   ]
  },
  {
   "cell_type": "code",
   "execution_count": 91,
   "metadata": {
    "ExecuteTime": {
     "end_time": "2020-02-12T20:15:23.496343Z",
     "start_time": "2020-02-12T20:15:23.492291Z"
    }
   },
   "outputs": [
    {
     "data": {
      "text/plain": [
       "11.662985304370933"
      ]
     },
     "execution_count": 91,
     "metadata": {},
     "output_type": "execute_result"
    }
   ],
   "source": [
    "np.mean(f1500)"
   ]
  },
  {
   "cell_type": "code",
   "execution_count": 92,
   "metadata": {
    "ExecuteTime": {
     "end_time": "2020-02-12T20:15:23.728559Z",
     "start_time": "2020-02-12T20:15:23.724682Z"
    }
   },
   "outputs": [
    {
     "data": {
      "text/plain": [
       "9.751846507303288"
      ]
     },
     "execution_count": 92,
     "metadata": {},
     "output_type": "execute_result"
    }
   ],
   "source": [
    "np.mean(f2550)"
   ]
  },
  {
   "cell_type": "code",
   "execution_count": null,
   "metadata": {},
   "outputs": [],
   "source": []
  }
 ],
 "metadata": {
  "kernelspec": {
   "display_name": "Python 3",
   "language": "python",
   "name": "python3"
  },
  "language_info": {
   "codemirror_mode": {
    "name": "ipython",
    "version": 3
   },
   "file_extension": ".py",
   "mimetype": "text/x-python",
   "name": "python",
   "nbconvert_exporter": "python",
   "pygments_lexer": "ipython3",
   "version": "3.7.3"
  },
  "toc": {
   "base_numbering": 1,
   "nav_menu": {},
   "number_sections": true,
   "sideBar": true,
   "skip_h1_title": false,
   "title_cell": "Table of Contents",
   "title_sidebar": "Contents",
   "toc_cell": true,
   "toc_position": {},
   "toc_section_display": true,
   "toc_window_display": true
  },
  "varInspector": {
   "cols": {
    "lenName": 16,
    "lenType": 16,
    "lenVar": 40
   },
   "kernels_config": {
    "python": {
     "delete_cmd_postfix": "",
     "delete_cmd_prefix": "del ",
     "library": "var_list.py",
     "varRefreshCmd": "print(var_dic_list())"
    },
    "r": {
     "delete_cmd_postfix": ") ",
     "delete_cmd_prefix": "rm(",
     "library": "var_list.r",
     "varRefreshCmd": "cat(var_dic_list()) "
    }
   },
   "types_to_exclude": [
    "module",
    "function",
    "builtin_function_or_method",
    "instance",
    "_Feature"
   ],
   "window_display": false
  }
 },
 "nbformat": 4,
 "nbformat_minor": 2
}
