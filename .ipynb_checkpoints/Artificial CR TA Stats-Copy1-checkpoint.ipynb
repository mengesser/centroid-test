{
 "cells": [
  {
   "cell_type": "markdown",
   "metadata": {
    "toc": true
   },
   "source": [
    "<h1>Table of Contents<span class=\"tocSkip\"></span></h1>\n",
    "<div class=\"toc\"><ul class=\"toc-item\"></ul></div>"
   ]
  },
  {
   "cell_type": "code",
   "execution_count": 1,
   "metadata": {
    "ExecuteTime": {
     "end_time": "2020-02-12T18:58:28.611611Z",
     "start_time": "2020-02-12T18:58:27.291883Z"
    },
    "code_folding": []
   },
   "outputs": [],
   "source": [
    "#imports\n",
    "from jwst_ta_cent_moments import checkbox, fine_centroid\n",
    "import numpy as np\n",
    "import random\n",
    "import matplotlib.pyplot as plt\n",
    "from scipy.interpolate import CubicSpline\n",
    "import pandas as pd\n",
    "from astropy.io import fits\n",
    "import os"
   ]
  },
  {
   "cell_type": "code",
   "execution_count": 2,
   "metadata": {
    "ExecuteTime": {
     "end_time": "2020-02-12T18:58:30.184921Z",
     "start_time": "2020-02-12T18:58:30.181502Z"
    },
    "code_folding": [
     0
    ]
   },
   "outputs": [],
   "source": [
    "def open_im(file):\n",
    "    #import MIRI webbpsf file\n",
    "    \n",
    "    hdu = fits.open(file)\n",
    "    head = hdu[0].header\n",
    "    data = hdu[0].data\n",
    "    \n",
    "    return head, data"
   ]
  },
  {
   "cell_type": "code",
   "execution_count": 3,
   "metadata": {
    "ExecuteTime": {
     "end_time": "2020-02-12T18:58:30.718584Z",
     "start_time": "2020-02-12T18:58:30.700978Z"
    },
    "code_folding": [
     0
    ]
   },
   "outputs": [],
   "source": [
    "def centroid_b(im, input_type='image', ext=0, cbox=5, cwin=5, incoord=(0., 0.), roi=None, bgcorr=-1, flat=None, flatext=0, out=None, thresh=0.05, silent=False):\n",
    "    \n",
    "    '''\n",
    "    Implementation of the JWST GENTALOCATE algorithm. Parameters key:\n",
    "    \n",
    "    - infile:       FITS filename\n",
    "    - input_type:   description of input data: 'image' or 'ramp'. If 'ramp'\n",
    "                    then make_ta_image functin is run. If 'image' (default)\n",
    "                    centroiding is performed directly on the data in the\n",
    "                    input file\n",
    "    - ext:          extension number of the FITS file containing the science data (default = 0)\n",
    "    - cbox:         the FULL size of the checkbox, in pixels, for coarse centroiding (default = 5)\n",
    "    - cwin:         the FULL size of the centroid window, in pixels, for fine centroiding (default = 5)\n",
    "    - incoord:      (x,y) input coordinates of the source position\n",
    "    - roi:          size of a region of interest to be used for the centroiding (optional). If not set, full image will be used for coarse                       centroiding. \n",
    "                        * setting an ROI also requires input coordinates\n",
    "                        * the ROI size must be bigger than the cbox parameter\n",
    "    - bgcorr:       background correction parameter. set to:\n",
    "                        * negative value for NO background subtraction (default)\n",
    "                        * 0 < bgcorr < 1 for fractional background subtraction\n",
    "                        * bgcorr > 1 for constant background subtraction number (this number will be subtracted from the entire image)\n",
    "    - out:          enter a filename for output of the fit results to a file (default = None)\n",
    "    - thresh:       the fit threshold, in pixels. default is 0.1 px. consider setting this to a higher number for testing, long-wavelength    \n",
    "                       data or low SNR data to prevent.\n",
    "    - silent:       set to True if you want to suppress verbose output\n",
    "    '''\n",
    "\n",
    "    # Read in data. Create the TA image if requested\n",
    "#     if input_type.lower() == 'image':\n",
    "#         hdu = fits.open(infile)\n",
    "#         im = hdu[ext].data\n",
    "#         h = hdu[ext].header\n",
    "#     elif input_type.lower() == 'ramp':\n",
    "#         im = make_ta_image(infile, ext=ext, useframes=3, save=False)\n",
    "#         # Save TA image for code testing\n",
    "#         h0 = fits.PrimaryHDU(im)\n",
    "#         hl = fits.HDUList([h0])\n",
    "#         indir, inf = os.path.split(infile)\n",
    "#         tafile = os.path.join(indir, 'TA_img_for_'+inf)\n",
    "#         hl.writeto(tafile, overwrite=True)\n",
    "\n",
    "    # Do background correction first\n",
    "    if bgcorr > 0.:\n",
    "        \n",
    "        # if a ROI size was provided, the value to be subtracted as background will be calculated using the pixels in the ROI only. Otherwise, use the full array.\n",
    "        if roi is not None:\n",
    "            im = bgrsub(im, bgcorr, roi, incoord, silent=silent)\n",
    "        else:\n",
    "            im = bgrsub(im, bgcorr, -1, incoord, silent=silent)\n",
    "\n",
    "    # Apply flat field\n",
    "    if flat is not None:\n",
    "        # Read in flat\n",
    "        with fits.open(flat) as ff:\n",
    "            flatfield = ff[flatext].data\n",
    "            \n",
    "        # Flat must be the same size as the data\n",
    "        ffshape = flatfield.shape\n",
    "        dshape = im.shape\n",
    "        if dshape != ffshape:\n",
    "            raise RunTimeError((\"WARNING: flat field shape ({}) does \"\n",
    "                                \"not match data shape ({})!\"\n",
    "                                .format(ffshape,dshape)))\n",
    "        # Apply flat\n",
    "        im = apply_flat_field(im, flatfield)\n",
    "        \n",
    "    ndim = np.ndim(im)\n",
    "    #pdb.set_trace()\n",
    "    \n",
    "    n = [np.size(im, axis=i) for i in range(ndim)]\n",
    "    \n",
    "    # NOTE: in python the x-coord is axis 1, y-coord is axis 0\n",
    "    xin = incoord[0]\n",
    "    yin = incoord[1]\n",
    "    if not silent:\n",
    "        print('Input coordinates = ({0}, {1})'.format(xin, yin))\n",
    "    \n",
    "    # Extract the ROI\n",
    "    if (roi is not None):\n",
    "        \n",
    "        #first check that the ROI is larger than the cbox size\n",
    "        assert roi > cbox, \"ROI size must be larger than the cbox parameter\"\n",
    "        \n",
    "        # now check that the ROI is a sensible number.\n",
    "        # if it's bigger than the size of the array, use the\n",
    "        # full array instead\n",
    "        if (roi >= n[0])|(roi >= n[1]):\n",
    "            print('ROI size is bigger than the image; using full image instead')\n",
    "            roi_im = im\n",
    "            xoffset = 0\n",
    "            yoffset = 0\n",
    "            #xc, yc = checkbox(im, cbox, bgcorr)\n",
    "        else:\n",
    "            roi_im = im[np.round(yin-(roi/2.)).astype(int):np.round(yin+(roi/2.)).astype(int),\n",
    "                        np.round(xin-(roi/2.)).astype(int):np.round(xin+(roi/2.)).astype(int)]\n",
    "            \n",
    "            \n",
    "            #print(\"ROI size is {0}\".format(np.shape(roi_im)))\n",
    "            xoffset = np.round(xin-(roi/2.)).astype(int)\n",
    "            yoffset = np.round(yin-(roi/2.)).astype(int)\n",
    "    else:\n",
    "        #xc, yc = checkbox(im, cbox, bgcorr)\n",
    "        roi_im = im\n",
    "        xoffset = 0\n",
    "        yoffset = 0\n",
    "    \n",
    "    # Perform coarse centroiding. Pay attention to coordinate\n",
    "    # offsets\n",
    "    xc, yc = checkbox(roi_im, cbox)\n",
    "    xc += xoffset\n",
    "    yc += yoffset\n",
    "    if not silent:\n",
    "        print('Coarse centroid found at ({0}, {1})'.format(xc, yc))\n",
    "    \n",
    "    # Iterate fine centroiding\n",
    "    # Take the threshold from the input parameter thresh\n",
    "    iter_thresh = thresh\n",
    "    nconv = 0\n",
    "    while nconv == 0:\n",
    "        xf, yf= fine_centroid(im, cwin, xc, yc)\n",
    "        err = np.sqrt((xf-xin)**2 + (yf-yin)**2)\n",
    "        if not silent:\n",
    "            print((\"Fine centroid found at (x, y) = ({0:.4f}, {1:.4f}). \"\n",
    "               \"Rms error = {2:.4f}\".format(xf, yf, err)))\n",
    "        if (abs(xf-xc) <= iter_thresh) & (abs(yf-yc) <= iter_thresh):\n",
    "            nconv = 1\n",
    "        xc = xf\n",
    "        yc = yf\n",
    "    \n",
    "\n",
    "    return xf, yf"
   ]
  },
  {
   "cell_type": "code",
   "execution_count": 4,
   "metadata": {
    "ExecuteTime": {
     "end_time": "2020-02-12T18:58:32.346545Z",
     "start_time": "2020-02-12T18:58:32.275797Z"
    }
   },
   "outputs": [],
   "source": [
    "head, data = open_im('MIRI_psf_model_F1000W_15.5.fits')"
   ]
  },
  {
   "cell_type": "code",
   "execution_count": 5,
   "metadata": {
    "ExecuteTime": {
     "end_time": "2020-02-12T18:58:33.900892Z",
     "start_time": "2020-02-12T18:58:33.693221Z"
    }
   },
   "outputs": [
    {
     "data": {
      "text/plain": [
       "<matplotlib.colorbar.Colorbar at 0xb1a39dac8>"
      ]
     },
     "execution_count": 5,
     "metadata": {},
     "output_type": "execute_result"
    },
    {
     "data": {
      "image/png": "[encoded data removed]",
      "text/plain": [
       "<Figure size 432x288 with 2 Axes>"
      ]
     },
     "metadata": {
      "needs_background": "light"
     },
     "output_type": "display_data"
    }
   ],
   "source": [
    "plt.imshow(data)\n",
    "plt.colorbar()"
   ]
  },
  {
   "cell_type": "code",
   "execution_count": 6,
   "metadata": {
    "ExecuteTime": {
     "end_time": "2020-02-12T18:58:51.018624Z",
     "start_time": "2020-02-12T18:58:51.015314Z"
    }
   },
   "outputs": [
    {
     "data": {
      "text/plain": [
       "(436, 436)"
      ]
     },
     "execution_count": 6,
     "metadata": {},
     "output_type": "execute_result"
    }
   ],
   "source": [
    "data.shape"
   ]
  },
  {
   "cell_type": "code",
   "execution_count": null,
   "metadata": {
    "ExecuteTime": {
     "end_time": "2020-02-12T18:57:22.543270Z",
     "start_time": "2020-02-12T18:57:22.539475Z"
    }
   },
   "outputs": [],
   "source": [
    "head['R_OFFSET']"
   ]
  },
  {
   "cell_type": "code",
   "execution_count": null,
   "metadata": {
    "ExecuteTime": {
     "end_time": "2020-02-12T18:57:24.512347Z",
     "start_time": "2020-02-12T18:57:23.593040Z"
    }
   },
   "outputs": [],
   "source": [
    "centroid_b(data)"
   ]
  },
  {
   "cell_type": "code",
   "execution_count": 7,
   "metadata": {
    "ExecuteTime": {
     "end_time": "2020-02-12T18:59:01.086978Z",
     "start_time": "2020-02-12T18:59:01.083988Z"
    }
   },
   "outputs": [
    {
     "data": {
      "text/plain": [
       "109.0"
      ]
     },
     "execution_count": 7,
     "metadata": {},
     "output_type": "execute_result"
    }
   ],
   "source": [
    "436/4"
   ]
  },
  {
   "cell_type": "code",
   "execution_count": null,
   "metadata": {},
   "outputs": [],
   "source": []
  }
 ],
 "metadata": {
  "kernelspec": {
   "display_name": "Python 3",
   "language": "python",
   "name": "python3"
  },
  "language_info": {
   "codemirror_mode": {
    "name": "ipython",
    "version": 3
   },
   "file_extension": ".py",
   "mimetype": "text/x-python",
   "name": "python",
   "nbconvert_exporter": "python",
   "pygments_lexer": "ipython3",
   "version": "3.7.3"
  },
  "toc": {
   "base_numbering": 1,
   "nav_menu": {},
   "number_sections": true,
   "sideBar": true,
   "skip_h1_title": false,
   "title_cell": "Table of Contents",
   "title_sidebar": "Contents",
   "toc_cell": true,
   "toc_position": {},
   "toc_section_display": true,
   "toc_window_display": true
  },
  "varInspector": {
   "cols": {
    "lenName": 16,
    "lenType": 16,
    "lenVar": 40
   },
   "kernels_config": {
    "python": {
     "delete_cmd_postfix": "",
     "delete_cmd_prefix": "del ",
     "library": "var_list.py",
     "varRefreshCmd": "print(var_dic_list())"
    },
    "r": {
     "delete_cmd_postfix": ") ",
     "delete_cmd_prefix": "rm(",
     "library": "var_list.r",
     "varRefreshCmd": "cat(var_dic_list()) "
    }
   },
   "types_to_exclude": [
    "module",
    "function",
    "builtin_function_or_method",
    "instance",
    "_Feature"
   ],
   "window_display": false
  }
 },
 "nbformat": 4,
 "nbformat_minor": 2
}
